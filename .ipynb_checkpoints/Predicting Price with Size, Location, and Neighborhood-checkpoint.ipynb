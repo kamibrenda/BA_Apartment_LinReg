{
 "cells": [
  {
   "cell_type": "markdown",
   "id": "3e2801f7-9544-47f9-952b-805f4b2373a5",
   "metadata": {},
   "source": [
    "# Predicting Price with Size, Location, and Neighborhood"
   ]
  },
  {
   "cell_type": "code",
   "execution_count": 15,
   "id": "6c72b97f-5426-43f3-bd8d-87d22068a01a",
   "metadata": {
    "tags": []
   },
   "outputs": [
    {
     "data": {
      "text/plain": [
       "'C:\\\\Users\\\\admin\\\\Desktop\\\\Personal_stuff\\\\PROJECTS\\\\Proj2_Price model'"
      ]
     },
     "execution_count": 15,
     "metadata": {},
     "output_type": "execute_result"
    }
   ],
   "source": [
    "pwd"
   ]
  },
  {
   "cell_type": "markdown",
   "id": "b00f5b83-f8ab-4cea-b025-0da4df48e0aa",
   "metadata": {},
   "source": [
    "## Library Importing"
   ]
  },
  {
   "cell_type": "code",
   "execution_count": 16,
   "id": "1447392a-a08f-4bff-bcf2-4bc823e1e193",
   "metadata": {
    "tags": []
   },
   "outputs": [],
   "source": [
    "from glob import glob\n",
    "import pandas as pd\n",
    "import seaborn as sns #for data visualisation\n",
    "from category_encoders import OneHotEncoder  #encoding categorical values\n",
    "from ipywidgets import Dropdown, FloatSlider, IntSlider, interact #for the interactive dashboard\n",
    "from sklearn.impute import SimpleImputer #3imputting missing values\n",
    "from sklearn.linear_model import LinearRegression, Ridge  # noqa F401--automaed quality control code.\n",
    "from sklearn.metrics import mean_absolute_error #to evaluate the model\n",
    "from sklearn.pipeline import make_pipeline  #make the pipoeline\n",
    "from sklearn.utils.validation import check_is_fitted #for unit testing"
   ]
  },
  {
   "cell_type": "markdown",
   "id": "f14b22cd-76c1-4a42-b9e3-fe55afd6ac0b",
   "metadata": {},
   "source": [
    "## Data Wrangling"
   ]
  },
  {
   "cell_type": "code",
   "execution_count": 17,
   "id": "8b2fa546-81f2-428e-aea0-191def45df27",
   "metadata": {
    "tags": []
   },
   "outputs": [],
   "source": [
    "#Loading the dataset with a function\n",
    "def wrangle (filepath):\n",
    "    #Load the CSV file into file path-local function applied\n",
    "    df = pd.read_csv(filepath, encoding='ISO-8859-1') #read csv to the dataframe \n",
    "    #To display 'Capital Federal' only \n",
    "    mask_ba = df[\"place_with_parent_names\"].str.contains(\"Capital Federal\")\n",
    "    #To display 'Apartment' only \n",
    "    mask_apt = df[\"property_type\"] == \"apartment\" \n",
    "    #To display price below'400,000'\n",
    "    mask_price = df[\"price_aprox_usd\"] < 400_000\n",
    "    #Subset\n",
    "    df = df[ mask_ba & mask_apt & mask_price]\n",
    "    \n",
    "    #Remove outliers by 'surface_area_m2' -----removing the 10th and 90th quantiles\n",
    "    low = df[\"surface_covered_in_m2\"].quantile(0.1)\n",
    "    high = df[\"surface_covered_in_m2\"].quantile(0.9)\n",
    "    \n",
    "    mask_area = df[\"surface_covered_in_m2\"].between(low, high)\n",
    "    \n",
    "    df = df[mask_area]\n",
    "    \n",
    "    #split the lat-lon column\n",
    "    df[[\"lat\", \"lon\"]] = df[\"lat-lon\"].str.split(\",\", expand=True).astype(float)\n",
    "    df.drop(columns=\"lat-lon\", inplace=True)\n",
    "    \n",
    "    #split place_with_parent_names\n",
    "    df[\"neighborhood\"] = df[\"place_with_parent_names\"].str.split(\"|\", expand=True)[3]\n",
    "    df.drop(columns=\"place_with_parent_names\", inplace=True)\n",
    "    \n",
    "    #drop features with high  null counts\n",
    "    df.drop(columns=[\"floor\",\"expenses\"], inplace = True) \n",
    "    \n",
    "    print('low = ', low, ';high = ', high)\n",
    "    print('df.shape = ', df.shape)\n",
    "    \n",
    "    return df"
   ]
  },
  {
   "cell_type": "code",
   "execution_count": 18,
   "id": "15d84d69-629f-46aa-9588-14a559f8b59c",
   "metadata": {},
   "outputs": [
    {
     "data": {
      "text/plain": [
       "['C:\\\\Users\\\\admin\\\\Desktop\\\\Personal_stuff\\\\PROJECTS\\\\Proj2_Price model\\\\buenos-aires-real-estate-1.csv',\n",
       " 'C:\\\\Users\\\\admin\\\\Desktop\\\\Personal_stuff\\\\PROJECTS\\\\Proj2_Price model\\\\buenos-aires-real-estate-2.csv',\n",
       " 'C:\\\\Users\\\\admin\\\\Desktop\\\\Personal_stuff\\\\PROJECTS\\\\Proj2_Price model\\\\buenos-aires-real-estate-3.csv',\n",
       " 'C:\\\\Users\\\\admin\\\\Desktop\\\\Personal_stuff\\\\PROJECTS\\\\Proj2_Price model\\\\buenos-aires-real-estate-4.csv',\n",
       " 'C:\\\\Users\\\\admin\\\\Desktop\\\\Personal_stuff\\\\PROJECTS\\\\Proj2_Price model\\\\buenos-aires-real-estate-5.csv']"
      ]
     },
     "execution_count": 18,
     "metadata": {},
     "output_type": "execute_result"
    }
   ],
   "source": [
    "#Collecting the files with the glob function\n",
    "files = glob(\"C:\\\\Users\\\\admin\\\\Desktop\\\\Personal_stuff\\\\PROJECTS\\\\Proj2_Price model/buenos-aires-real-estate-*.csv\")\n",
    "files"
   ]
  },
  {
   "cell_type": "code",
   "execution_count": 19,
   "id": "8a938e8c-ad40-41e9-a4ef-253a6e70721d",
   "metadata": {
    "tags": []
   },
   "outputs": [
    {
     "name": "stdout",
     "output_type": "stream",
     "text": [
      "low =  31.0 ;high =  100.0\n",
      "df.shape =  (1343, 16)\n",
      "low =  31.0 ;high =  100.0\n",
      "df.shape =  (1315, 16)\n",
      "low =  31.0 ;high =  101.70000000000005\n",
      "df.shape =  (1288, 16)\n",
      "low =  30.0 ;high =  98.0\n",
      "df.shape =  (1305, 16)\n",
      "low =  30.0 ;high =  100.0\n",
      "df.shape =  (1331, 16)\n"
     ]
    }
   ],
   "source": [
    "#Loading the files with list comprehension to a df \n",
    "frames = [wrangle(file) for file in files]"
   ]
  },
  {
   "cell_type": "code",
   "execution_count": 20,
   "id": "cdf69ba6-fb73-41b6-830d-8ce2fb694917",
   "metadata": {
    "tags": []
   },
   "outputs": [
    {
     "data": {
      "text/plain": [
       "pandas.core.frame.DataFrame"
      ]
     },
     "execution_count": 20,
     "metadata": {},
     "output_type": "execute_result"
    }
   ],
   "source": [
    "type(frames[0]) #indicating its a list "
   ]
  },
  {
   "cell_type": "code",
   "execution_count": 21,
   "id": "927f7ea5-6db3-4e53-8f1e-5a1c0599a8eb",
   "metadata": {
    "tags": []
   },
   "outputs": [
    {
     "data": {
      "text/html": [
       "<div>\n",
       "<style scoped>\n",
       "    .dataframe tbody tr th:only-of-type {\n",
       "        vertical-align: middle;\n",
       "    }\n",
       "\n",
       "    .dataframe tbody tr th {\n",
       "        vertical-align: top;\n",
       "    }\n",
       "\n",
       "    .dataframe thead th {\n",
       "        text-align: right;\n",
       "    }\n",
       "</style>\n",
       "<table border=\"1\" class=\"dataframe\">\n",
       "  <thead>\n",
       "    <tr style=\"text-align: right;\">\n",
       "      <th></th>\n",
       "      <th>Unnamed: 0</th>\n",
       "      <th>operation</th>\n",
       "      <th>property_type</th>\n",
       "      <th>price</th>\n",
       "      <th>currency</th>\n",
       "      <th>price_aprox_local_currency</th>\n",
       "      <th>price_aprox_usd</th>\n",
       "      <th>surface_total_in_m2</th>\n",
       "      <th>surface_covered_in_m2</th>\n",
       "      <th>price_usd_per_m2</th>\n",
       "      <th>price_per_m2</th>\n",
       "      <th>rooms</th>\n",
       "      <th>properati_url</th>\n",
       "      <th>lat</th>\n",
       "      <th>lon</th>\n",
       "      <th>neighborhood</th>\n",
       "    </tr>\n",
       "  </thead>\n",
       "  <tbody>\n",
       "    <tr>\n",
       "      <th>4</th>\n",
       "      <td>5</td>\n",
       "      <td>sell</td>\n",
       "      <td>apartment</td>\n",
       "      <td>129000.0</td>\n",
       "      <td>USD</td>\n",
       "      <td>1955949.6</td>\n",
       "      <td>129000.0</td>\n",
       "      <td>76.0</td>\n",
       "      <td>70.0</td>\n",
       "      <td>1697.368421</td>\n",
       "      <td>1842.857143</td>\n",
       "      <td>NaN</td>\n",
       "      <td>http://chacarita.properati.com.ar/10qlv_venta_...</td>\n",
       "      <td>-34.584651</td>\n",
       "      <td>-58.454693</td>\n",
       "      <td>Chacarita</td>\n",
       "    </tr>\n",
       "    <tr>\n",
       "      <th>9</th>\n",
       "      <td>10</td>\n",
       "      <td>sell</td>\n",
       "      <td>apartment</td>\n",
       "      <td>87000.0</td>\n",
       "      <td>USD</td>\n",
       "      <td>1319128.8</td>\n",
       "      <td>87000.0</td>\n",
       "      <td>48.0</td>\n",
       "      <td>42.0</td>\n",
       "      <td>1812.500000</td>\n",
       "      <td>2071.428571</td>\n",
       "      <td>NaN</td>\n",
       "      <td>http://villa-luro.properati.com.ar/12m82_venta...</td>\n",
       "      <td>-34.638979</td>\n",
       "      <td>-58.500115</td>\n",
       "      <td>Villa Luro</td>\n",
       "    </tr>\n",
       "    <tr>\n",
       "      <th>29</th>\n",
       "      <td>30</td>\n",
       "      <td>sell</td>\n",
       "      <td>apartment</td>\n",
       "      <td>118000.0</td>\n",
       "      <td>USD</td>\n",
       "      <td>1789163.2</td>\n",
       "      <td>118000.0</td>\n",
       "      <td>NaN</td>\n",
       "      <td>54.0</td>\n",
       "      <td>NaN</td>\n",
       "      <td>2185.185185</td>\n",
       "      <td>2.0</td>\n",
       "      <td>http://caballito.properati.com.ar/11wqh_venta_...</td>\n",
       "      <td>-34.615847</td>\n",
       "      <td>-58.459957</td>\n",
       "      <td>Caballito</td>\n",
       "    </tr>\n",
       "    <tr>\n",
       "      <th>40</th>\n",
       "      <td>41</td>\n",
       "      <td>sell</td>\n",
       "      <td>apartment</td>\n",
       "      <td>57000.0</td>\n",
       "      <td>USD</td>\n",
       "      <td>864256.8</td>\n",
       "      <td>57000.0</td>\n",
       "      <td>42.0</td>\n",
       "      <td>42.0</td>\n",
       "      <td>1357.142857</td>\n",
       "      <td>1357.142857</td>\n",
       "      <td>2.0</td>\n",
       "      <td>http://constitucion.properati.com.ar/k2f0_vent...</td>\n",
       "      <td>-34.625222</td>\n",
       "      <td>-58.382382</td>\n",
       "      <td>Constitución</td>\n",
       "    </tr>\n",
       "    <tr>\n",
       "      <th>41</th>\n",
       "      <td>42</td>\n",
       "      <td>sell</td>\n",
       "      <td>apartment</td>\n",
       "      <td>90000.0</td>\n",
       "      <td>USD</td>\n",
       "      <td>1364616.0</td>\n",
       "      <td>90000.0</td>\n",
       "      <td>57.0</td>\n",
       "      <td>50.0</td>\n",
       "      <td>1578.947368</td>\n",
       "      <td>1800.000000</td>\n",
       "      <td>3.0</td>\n",
       "      <td>http://once.properati.com.ar/suwa_venta_depart...</td>\n",
       "      <td>-34.610610</td>\n",
       "      <td>-58.412511</td>\n",
       "      <td>Once</td>\n",
       "    </tr>\n",
       "  </tbody>\n",
       "</table>\n",
       "</div>"
      ],
      "text/plain": [
       "    Unnamed: 0 operation property_type     price currency  \\\n",
       "4            5      sell     apartment  129000.0      USD   \n",
       "9           10      sell     apartment   87000.0      USD   \n",
       "29          30      sell     apartment  118000.0      USD   \n",
       "40          41      sell     apartment   57000.0      USD   \n",
       "41          42      sell     apartment   90000.0      USD   \n",
       "\n",
       "    price_aprox_local_currency  price_aprox_usd  surface_total_in_m2  \\\n",
       "4                    1955949.6         129000.0                 76.0   \n",
       "9                    1319128.8          87000.0                 48.0   \n",
       "29                   1789163.2         118000.0                  NaN   \n",
       "40                    864256.8          57000.0                 42.0   \n",
       "41                   1364616.0          90000.0                 57.0   \n",
       "\n",
       "    surface_covered_in_m2  price_usd_per_m2  price_per_m2  rooms  \\\n",
       "4                    70.0       1697.368421   1842.857143    NaN   \n",
       "9                    42.0       1812.500000   2071.428571    NaN   \n",
       "29                   54.0               NaN   2185.185185    2.0   \n",
       "40                   42.0       1357.142857   1357.142857    2.0   \n",
       "41                   50.0       1578.947368   1800.000000    3.0   \n",
       "\n",
       "                                        properati_url        lat        lon  \\\n",
       "4   http://chacarita.properati.com.ar/10qlv_venta_... -34.584651 -58.454693   \n",
       "9   http://villa-luro.properati.com.ar/12m82_venta... -34.638979 -58.500115   \n",
       "29  http://caballito.properati.com.ar/11wqh_venta_... -34.615847 -58.459957   \n",
       "40  http://constitucion.properati.com.ar/k2f0_vent... -34.625222 -58.382382   \n",
       "41  http://once.properati.com.ar/suwa_venta_depart... -34.610610 -58.412511   \n",
       "\n",
       "    neighborhood  \n",
       "4      Chacarita  \n",
       "9     Villa Luro  \n",
       "29     Caballito  \n",
       "40  Constitución  \n",
       "41          Once  "
      ]
     },
     "execution_count": 21,
     "metadata": {},
     "output_type": "execute_result"
    }
   ],
   "source": [
    "frames[0].head() #dataframe 1"
   ]
  },
  {
   "cell_type": "code",
   "execution_count": 22,
   "id": "05bbe2d3-7c70-44fc-981c-df09b5b540cd",
   "metadata": {
    "tags": []
   },
   "outputs": [
    {
     "data": {
      "text/html": [
       "<div>\n",
       "<style scoped>\n",
       "    .dataframe tbody tr th:only-of-type {\n",
       "        vertical-align: middle;\n",
       "    }\n",
       "\n",
       "    .dataframe tbody tr th {\n",
       "        vertical-align: top;\n",
       "    }\n",
       "\n",
       "    .dataframe thead th {\n",
       "        text-align: right;\n",
       "    }\n",
       "</style>\n",
       "<table border=\"1\" class=\"dataframe\">\n",
       "  <thead>\n",
       "    <tr style=\"text-align: right;\">\n",
       "      <th></th>\n",
       "      <th>Unnamed: 0</th>\n",
       "      <th>operation</th>\n",
       "      <th>property_type</th>\n",
       "      <th>price</th>\n",
       "      <th>currency</th>\n",
       "      <th>price_aprox_local_currency</th>\n",
       "      <th>price_aprox_usd</th>\n",
       "      <th>surface_total_in_m2</th>\n",
       "      <th>surface_covered_in_m2</th>\n",
       "      <th>price_usd_per_m2</th>\n",
       "      <th>price_per_m2</th>\n",
       "      <th>rooms</th>\n",
       "      <th>properati_url</th>\n",
       "      <th>lat</th>\n",
       "      <th>lon</th>\n",
       "      <th>neighborhood</th>\n",
       "    </tr>\n",
       "  </thead>\n",
       "  <tbody>\n",
       "    <tr>\n",
       "      <th>0</th>\n",
       "      <td>5</td>\n",
       "      <td>sell</td>\n",
       "      <td>apartment</td>\n",
       "      <td>129000.0</td>\n",
       "      <td>USD</td>\n",
       "      <td>1955949.6</td>\n",
       "      <td>129000.0</td>\n",
       "      <td>76.0</td>\n",
       "      <td>70.0</td>\n",
       "      <td>1697.368421</td>\n",
       "      <td>1842.857143</td>\n",
       "      <td>NaN</td>\n",
       "      <td>http://chacarita.properati.com.ar/10qlv_venta_...</td>\n",
       "      <td>-34.584651</td>\n",
       "      <td>-58.454693</td>\n",
       "      <td>Chacarita</td>\n",
       "    </tr>\n",
       "    <tr>\n",
       "      <th>1</th>\n",
       "      <td>10</td>\n",
       "      <td>sell</td>\n",
       "      <td>apartment</td>\n",
       "      <td>87000.0</td>\n",
       "      <td>USD</td>\n",
       "      <td>1319128.8</td>\n",
       "      <td>87000.0</td>\n",
       "      <td>48.0</td>\n",
       "      <td>42.0</td>\n",
       "      <td>1812.500000</td>\n",
       "      <td>2071.428571</td>\n",
       "      <td>NaN</td>\n",
       "      <td>http://villa-luro.properati.com.ar/12m82_venta...</td>\n",
       "      <td>-34.638979</td>\n",
       "      <td>-58.500115</td>\n",
       "      <td>Villa Luro</td>\n",
       "    </tr>\n",
       "    <tr>\n",
       "      <th>2</th>\n",
       "      <td>30</td>\n",
       "      <td>sell</td>\n",
       "      <td>apartment</td>\n",
       "      <td>118000.0</td>\n",
       "      <td>USD</td>\n",
       "      <td>1789163.2</td>\n",
       "      <td>118000.0</td>\n",
       "      <td>NaN</td>\n",
       "      <td>54.0</td>\n",
       "      <td>NaN</td>\n",
       "      <td>2185.185185</td>\n",
       "      <td>2.0</td>\n",
       "      <td>http://caballito.properati.com.ar/11wqh_venta_...</td>\n",
       "      <td>-34.615847</td>\n",
       "      <td>-58.459957</td>\n",
       "      <td>Caballito</td>\n",
       "    </tr>\n",
       "    <tr>\n",
       "      <th>3</th>\n",
       "      <td>41</td>\n",
       "      <td>sell</td>\n",
       "      <td>apartment</td>\n",
       "      <td>57000.0</td>\n",
       "      <td>USD</td>\n",
       "      <td>864256.8</td>\n",
       "      <td>57000.0</td>\n",
       "      <td>42.0</td>\n",
       "      <td>42.0</td>\n",
       "      <td>1357.142857</td>\n",
       "      <td>1357.142857</td>\n",
       "      <td>2.0</td>\n",
       "      <td>http://constitucion.properati.com.ar/k2f0_vent...</td>\n",
       "      <td>-34.625222</td>\n",
       "      <td>-58.382382</td>\n",
       "      <td>Constitución</td>\n",
       "    </tr>\n",
       "    <tr>\n",
       "      <th>4</th>\n",
       "      <td>42</td>\n",
       "      <td>sell</td>\n",
       "      <td>apartment</td>\n",
       "      <td>90000.0</td>\n",
       "      <td>USD</td>\n",
       "      <td>1364616.0</td>\n",
       "      <td>90000.0</td>\n",
       "      <td>57.0</td>\n",
       "      <td>50.0</td>\n",
       "      <td>1578.947368</td>\n",
       "      <td>1800.000000</td>\n",
       "      <td>3.0</td>\n",
       "      <td>http://once.properati.com.ar/suwa_venta_depart...</td>\n",
       "      <td>-34.610610</td>\n",
       "      <td>-58.412511</td>\n",
       "      <td>Once</td>\n",
       "    </tr>\n",
       "  </tbody>\n",
       "</table>\n",
       "</div>"
      ],
      "text/plain": [
       "   Unnamed: 0 operation property_type     price currency  \\\n",
       "0           5      sell     apartment  129000.0      USD   \n",
       "1          10      sell     apartment   87000.0      USD   \n",
       "2          30      sell     apartment  118000.0      USD   \n",
       "3          41      sell     apartment   57000.0      USD   \n",
       "4          42      sell     apartment   90000.0      USD   \n",
       "\n",
       "   price_aprox_local_currency  price_aprox_usd  surface_total_in_m2  \\\n",
       "0                   1955949.6         129000.0                 76.0   \n",
       "1                   1319128.8          87000.0                 48.0   \n",
       "2                   1789163.2         118000.0                  NaN   \n",
       "3                    864256.8          57000.0                 42.0   \n",
       "4                   1364616.0          90000.0                 57.0   \n",
       "\n",
       "   surface_covered_in_m2  price_usd_per_m2  price_per_m2  rooms  \\\n",
       "0                   70.0       1697.368421   1842.857143    NaN   \n",
       "1                   42.0       1812.500000   2071.428571    NaN   \n",
       "2                   54.0               NaN   2185.185185    2.0   \n",
       "3                   42.0       1357.142857   1357.142857    2.0   \n",
       "4                   50.0       1578.947368   1800.000000    3.0   \n",
       "\n",
       "                                       properati_url        lat        lon  \\\n",
       "0  http://chacarita.properati.com.ar/10qlv_venta_... -34.584651 -58.454693   \n",
       "1  http://villa-luro.properati.com.ar/12m82_venta... -34.638979 -58.500115   \n",
       "2  http://caballito.properati.com.ar/11wqh_venta_... -34.615847 -58.459957   \n",
       "3  http://constitucion.properati.com.ar/k2f0_vent... -34.625222 -58.382382   \n",
       "4  http://once.properati.com.ar/suwa_venta_depart... -34.610610 -58.412511   \n",
       "\n",
       "   neighborhood  \n",
       "0     Chacarita  \n",
       "1    Villa Luro  \n",
       "2     Caballito  \n",
       "3  Constitución  \n",
       "4          Once  "
      ]
     },
     "execution_count": 22,
     "metadata": {},
     "output_type": "execute_result"
    }
   ],
   "source": [
    "#concatenate the dataframes \n",
    "df = pd.concat(frames, ignore_index = True)\n",
    "df.head()"
   ]
  },
  {
   "cell_type": "code",
   "execution_count": 23,
   "id": "e51048ef-b5d3-4220-bf2c-5df2b795cd37",
   "metadata": {},
   "outputs": [
    {
     "name": "stdout",
     "output_type": "stream",
     "text": [
      "<class 'pandas.core.frame.DataFrame'>\n",
      "RangeIndex: 6582 entries, 0 to 6581\n",
      "Data columns (total 16 columns):\n",
      " #   Column                      Non-Null Count  Dtype  \n",
      "---  ------                      --------------  -----  \n",
      " 0   Unnamed: 0                  6582 non-null   int64  \n",
      " 1   operation                   6582 non-null   object \n",
      " 2   property_type               6582 non-null   object \n",
      " 3   price                       6582 non-null   float64\n",
      " 4   currency                    6582 non-null   object \n",
      " 5   price_aprox_local_currency  6582 non-null   float64\n",
      " 6   price_aprox_usd             6582 non-null   float64\n",
      " 7   surface_total_in_m2         4752 non-null   float64\n",
      " 8   surface_covered_in_m2       6582 non-null   float64\n",
      " 9   price_usd_per_m2            4536 non-null   float64\n",
      " 10  price_per_m2                6582 non-null   float64\n",
      " 11  rooms                       5286 non-null   float64\n",
      " 12  properati_url               6582 non-null   object \n",
      " 13  lat                         6316 non-null   float64\n",
      " 14  lon                         6316 non-null   float64\n",
      " 15  neighborhood                6582 non-null   object \n",
      "dtypes: float64(10), int64(1), object(5)\n",
      "memory usage: 822.9+ KB\n"
     ]
    }
   ],
   "source": [
    " df.info()"
   ]
  },
  {
   "cell_type": "code",
   "execution_count": 24,
   "id": "158fc053-42f2-4c52-9421-fd5caf19aff5",
   "metadata": {},
   "outputs": [
    {
     "data": {
      "text/plain": [
       "Unnamed: 0                    0.000000\n",
       "operation                     0.000000\n",
       "property_type                 0.000000\n",
       "price                         0.000000\n",
       "currency                      0.000000\n",
       "price_aprox_local_currency    0.000000\n",
       "price_aprox_usd               0.000000\n",
       "surface_total_in_m2           0.278031\n",
       "surface_covered_in_m2         0.000000\n",
       "price_usd_per_m2              0.310848\n",
       "price_per_m2                  0.000000\n",
       "rooms                         0.196901\n",
       "properati_url                 0.000000\n",
       "lat                           0.040413\n",
       "lon                           0.040413\n",
       "neighborhood                  0.000000\n",
       "dtype: float64"
      ]
     },
     "execution_count": 24,
     "metadata": {},
     "output_type": "execute_result"
    }
   ],
   "source": [
    "#shows percentage of representation of missing values more than 50% drop\n",
    "#sum of null values in each column 0 rep false and 1 is true\n",
    "df.isnull().sum()/len(df)"
   ]
  },
  {
   "cell_type": "markdown",
   "id": "0f80c59b-7aa1-4e12-8f59-2023f1d67707",
   "metadata": {},
   "source": [
    "### Next"
   ]
  },
  {
   "cell_type": "code",
   "execution_count": null,
   "id": "ec2c5ce2-8d4f-4670-8246-3c0490158130",
   "metadata": {},
   "outputs": [],
   "source": []
  }
 ],
 "metadata": {
  "kernelspec": {
   "display_name": "Python 3 (ipykernel)",
   "language": "python",
   "name": "python3"
  },
  "language_info": {
   "codemirror_mode": {
    "name": "ipython",
    "version": 3
   },
   "file_extension": ".py",
   "mimetype": "text/x-python",
   "name": "python",
   "nbconvert_exporter": "python",
   "pygments_lexer": "ipython3",
   "version": "3.11.3"
  }
 },
 "nbformat": 4,
 "nbformat_minor": 5
}
