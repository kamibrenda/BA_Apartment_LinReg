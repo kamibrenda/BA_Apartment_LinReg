{
 "cells": [
  {
   "cell_type": "markdown",
   "id": "0ff32679-9afd-40e7-b74c-c2670579ac86",
   "metadata": {},
   "source": [
    "# Predicting Price with Neighborhood"
   ]
  },
  {
   "cell_type": "code",
   "execution_count": 1,
   "id": "8f8c5406-d9bd-4249-b07b-6b5804380be3",
   "metadata": {
    "tags": []
   },
   "outputs": [
    {
     "data": {
      "text/plain": [
       "'C:\\\\Users\\\\admin\\\\Desktop\\\\Personal_stuff\\\\PROJECTS\\\\Proj2_Price model'"
      ]
     },
     "execution_count": 1,
     "metadata": {},
     "output_type": "execute_result"
    }
   ],
   "source": [
    "pwd"
   ]
  },
  {
   "cell_type": "markdown",
   "id": "91cf423d-458a-4554-a38e-9455dd1eaa22",
   "metadata": {},
   "source": [
    "## Library importing"
   ]
  },
  {
   "cell_type": "code",
   "execution_count": 2,
   "id": "986ab19a-7e04-46f7-8eae-0ab3ddb5e1bb",
   "metadata": {
    "tags": []
   },
   "outputs": [],
   "source": [
    "#pip install category_encoders"
   ]
  },
  {
   "cell_type": "code",
   "execution_count": 3,
   "id": "a6d75e78-d66b-4936-ad59-3d31f514f347",
   "metadata": {
    "tags": []
   },
   "outputs": [],
   "source": [
    "from glob import glob\n",
    "import matplotlib.pyplot as plt\n",
    "import numpy as np\n",
    "import pandas as pd\n",
    "from category_encoders import OneHotEncoder\n",
    "from sklearn.impute import SimpleImputer\n",
    "from sklearn.linear_model import LinearRegression, Ridge  # noqa F401\n",
    "from sklearn.metrics import mean_absolute_error\n",
    "from sklearn.pipeline import make_pipeline"
   ]
  },
  {
   "cell_type": "markdown",
   "id": "e7f2f27d-0f4b-47a7-9bbc-c3e83d6cca16",
   "metadata": {},
   "source": [
    "## Data Wrangling"
   ]
  },
  {
   "cell_type": "code",
   "execution_count": 4,
   "id": "42822e01-57fe-4285-be09-cc8ead99611e",
   "metadata": {},
   "outputs": [],
   "source": [
    "#Loading the dataset with a function\n",
    "def wrangle (filepath):\n",
    "    #Load the CSV file into file path-local function applied\n",
    "    df = pd.read_csv(filepath, encoding='ISO-8859-1')\n",
    "    #To display 'Capital Federal' only \n",
    "    mask_ba = df[\"place_with_parent_names\"].str.contains(\"Capital Federal\")\n",
    "    #To display 'Apartment' only \n",
    "    mask_apt = df[\"property_type\"] == \"apartment\" \n",
    "    #To display price below'400,000'\n",
    "    mask_price = df[\"price_aprox_usd\"] < 400_000\n",
    "    #Subset\n",
    "    df = df[ mask_ba & mask_apt & mask_price]\n",
    "    \n",
    "    #Remove outliers by 'surface_area_m2' -----removing the 10th and 90th quantiles\n",
    "    low = df[\"surface_covered_in_m2\"].quantile(0.1)\n",
    "    high = df[\"surface_covered_in_m2\"].quantile(0.9)\n",
    "    \n",
    "    mask_area = df[\"surface_covered_in_m2\"].between(low, high)\n",
    "    \n",
    "    df = df[mask_area]\n",
    "    \n",
    "    #split the lat-lon column\n",
    "    df[[\"lat\", \"lon\"]] = df[\"lat-lon\"].str.split(\",\", expand=True).astype(float)\n",
    "    df.drop(columns=\"lat-lon\", inplace=True)\n",
    "    \n",
    "    #split place_with_parent_names\n",
    "    df[\"neighbourhood\"] = df[\"place_with_parent_names\"].str.split(\"|\", expand=True)[3]\n",
    "    df.drop(columns=\"place_with_parent_names\", inplace=True)\n",
    "    \n",
    "    print('low = ', low, ';high = ', high)\n",
    "    print('df.shape = ', df.shape)\n",
    "    \n",
    "    return df"
   ]
  },
  {
   "cell_type": "code",
   "execution_count": 5,
   "id": "96778eeb-6a23-492a-9d0b-0672cd65af9f",
   "metadata": {
    "tags": []
   },
   "outputs": [
    {
     "data": {
      "text/plain": [
       "['C:\\\\Users\\\\admin\\\\Desktop\\\\Personal_stuff\\\\PROJECTS\\\\Proj2_Price model\\\\buenos-aires-real-estate-1.csv',\n",
       " 'C:\\\\Users\\\\admin\\\\Desktop\\\\Personal_stuff\\\\PROJECTS\\\\Proj2_Price model\\\\buenos-aires-real-estate-2.csv',\n",
       " 'C:\\\\Users\\\\admin\\\\Desktop\\\\Personal_stuff\\\\PROJECTS\\\\Proj2_Price model\\\\buenos-aires-real-estate-3.csv',\n",
       " 'C:\\\\Users\\\\admin\\\\Desktop\\\\Personal_stuff\\\\PROJECTS\\\\Proj2_Price model\\\\buenos-aires-real-estate-4.csv',\n",
       " 'C:\\\\Users\\\\admin\\\\Desktop\\\\Personal_stuff\\\\PROJECTS\\\\Proj2_Price model\\\\buenos-aires-real-estate-5.csv']"
      ]
     },
     "execution_count": 5,
     "metadata": {},
     "output_type": "execute_result"
    }
   ],
   "source": [
    "#list of all files to be imported\n",
    "files = glob(\"C:\\\\Users\\\\admin\\\\Desktop\\\\Personal_stuff\\\\PROJECTS\\\\Proj2_Price model/buenos-aires-real-estate-*.csv\")\n",
    "files"
   ]
  },
  {
   "cell_type": "code",
   "execution_count": 6,
   "id": "01d88bfc-efa5-4a5f-b524-e98d7db0eba1",
   "metadata": {
    "tags": []
   },
   "outputs": [
    {
     "name": "stdout",
     "output_type": "stream",
     "text": [
      "low =  31.0 ;high =  100.0\n",
      "df.shape =  (1343, 18)\n",
      "low =  31.0 ;high =  100.0\n",
      "df.shape =  (1315, 18)\n",
      "low =  31.0 ;high =  101.70000000000005\n",
      "df.shape =  (1288, 18)\n",
      "low =  30.0 ;high =  98.0\n",
      "df.shape =  (1305, 18)\n",
      "low =  30.0 ;high =  100.0\n",
      "df.shape =  (1331, 18)\n"
     ]
    }
   ],
   "source": [
    "#loading all the dataframes\n",
    "frames = []\n",
    "for file in files:\n",
    "    df = wrangle(file)\n",
    "    frames.append(df)"
   ]
  },
  {
   "cell_type": "code",
   "execution_count": 7,
   "id": "ef9e491c-fb2e-41c7-aed0-0dee995053b0",
   "metadata": {
    "tags": []
   },
   "outputs": [
    {
     "data": {
      "text/html": [
       "<div>\n",
       "<style scoped>\n",
       "    .dataframe tbody tr th:only-of-type {\n",
       "        vertical-align: middle;\n",
       "    }\n",
       "\n",
       "    .dataframe tbody tr th {\n",
       "        vertical-align: top;\n",
       "    }\n",
       "\n",
       "    .dataframe thead th {\n",
       "        text-align: right;\n",
       "    }\n",
       "</style>\n",
       "<table border=\"1\" class=\"dataframe\">\n",
       "  <thead>\n",
       "    <tr style=\"text-align: right;\">\n",
       "      <th></th>\n",
       "      <th>Unnamed: 0</th>\n",
       "      <th>operation</th>\n",
       "      <th>property_type</th>\n",
       "      <th>price</th>\n",
       "      <th>currency</th>\n",
       "      <th>price_aprox_local_currency</th>\n",
       "      <th>price_aprox_usd</th>\n",
       "      <th>surface_total_in_m2</th>\n",
       "      <th>surface_covered_in_m2</th>\n",
       "      <th>price_usd_per_m2</th>\n",
       "      <th>price_per_m2</th>\n",
       "      <th>floor</th>\n",
       "      <th>rooms</th>\n",
       "      <th>expenses</th>\n",
       "      <th>properati_url</th>\n",
       "      <th>lat</th>\n",
       "      <th>lon</th>\n",
       "      <th>neighbourhood</th>\n",
       "    </tr>\n",
       "  </thead>\n",
       "  <tbody>\n",
       "    <tr>\n",
       "      <th>4</th>\n",
       "      <td>5</td>\n",
       "      <td>sell</td>\n",
       "      <td>apartment</td>\n",
       "      <td>129000.0</td>\n",
       "      <td>USD</td>\n",
       "      <td>1955949.6</td>\n",
       "      <td>129000.0</td>\n",
       "      <td>76.0</td>\n",
       "      <td>70.0</td>\n",
       "      <td>1697.368421</td>\n",
       "      <td>1842.857143</td>\n",
       "      <td>NaN</td>\n",
       "      <td>NaN</td>\n",
       "      <td>NaN</td>\n",
       "      <td>http://chacarita.properati.com.ar/10qlv_venta_...</td>\n",
       "      <td>-34.584651</td>\n",
       "      <td>-58.454693</td>\n",
       "      <td>Chacarita</td>\n",
       "    </tr>\n",
       "    <tr>\n",
       "      <th>9</th>\n",
       "      <td>10</td>\n",
       "      <td>sell</td>\n",
       "      <td>apartment</td>\n",
       "      <td>87000.0</td>\n",
       "      <td>USD</td>\n",
       "      <td>1319128.8</td>\n",
       "      <td>87000.0</td>\n",
       "      <td>48.0</td>\n",
       "      <td>42.0</td>\n",
       "      <td>1812.500000</td>\n",
       "      <td>2071.428571</td>\n",
       "      <td>NaN</td>\n",
       "      <td>NaN</td>\n",
       "      <td>NaN</td>\n",
       "      <td>http://villa-luro.properati.com.ar/12m82_venta...</td>\n",
       "      <td>-34.638979</td>\n",
       "      <td>-58.500115</td>\n",
       "      <td>Villa Luro</td>\n",
       "    </tr>\n",
       "    <tr>\n",
       "      <th>29</th>\n",
       "      <td>30</td>\n",
       "      <td>sell</td>\n",
       "      <td>apartment</td>\n",
       "      <td>118000.0</td>\n",
       "      <td>USD</td>\n",
       "      <td>1789163.2</td>\n",
       "      <td>118000.0</td>\n",
       "      <td>NaN</td>\n",
       "      <td>54.0</td>\n",
       "      <td>NaN</td>\n",
       "      <td>2185.185185</td>\n",
       "      <td>NaN</td>\n",
       "      <td>2.0</td>\n",
       "      <td>NaN</td>\n",
       "      <td>http://caballito.properati.com.ar/11wqh_venta_...</td>\n",
       "      <td>-34.615847</td>\n",
       "      <td>-58.459957</td>\n",
       "      <td>Caballito</td>\n",
       "    </tr>\n",
       "    <tr>\n",
       "      <th>40</th>\n",
       "      <td>41</td>\n",
       "      <td>sell</td>\n",
       "      <td>apartment</td>\n",
       "      <td>57000.0</td>\n",
       "      <td>USD</td>\n",
       "      <td>864256.8</td>\n",
       "      <td>57000.0</td>\n",
       "      <td>42.0</td>\n",
       "      <td>42.0</td>\n",
       "      <td>1357.142857</td>\n",
       "      <td>1357.142857</td>\n",
       "      <td>5.0</td>\n",
       "      <td>2.0</td>\n",
       "      <td>364.0</td>\n",
       "      <td>http://constitucion.properati.com.ar/k2f0_vent...</td>\n",
       "      <td>-34.625222</td>\n",
       "      <td>-58.382382</td>\n",
       "      <td>Constitución</td>\n",
       "    </tr>\n",
       "    <tr>\n",
       "      <th>41</th>\n",
       "      <td>42</td>\n",
       "      <td>sell</td>\n",
       "      <td>apartment</td>\n",
       "      <td>90000.0</td>\n",
       "      <td>USD</td>\n",
       "      <td>1364616.0</td>\n",
       "      <td>90000.0</td>\n",
       "      <td>57.0</td>\n",
       "      <td>50.0</td>\n",
       "      <td>1578.947368</td>\n",
       "      <td>1800.000000</td>\n",
       "      <td>NaN</td>\n",
       "      <td>3.0</td>\n",
       "      <td>450.0</td>\n",
       "      <td>http://once.properati.com.ar/suwa_venta_depart...</td>\n",
       "      <td>-34.610610</td>\n",
       "      <td>-58.412511</td>\n",
       "      <td>Once</td>\n",
       "    </tr>\n",
       "  </tbody>\n",
       "</table>\n",
       "</div>"
      ],
      "text/plain": [
       "    Unnamed: 0 operation property_type     price currency  \\\n",
       "4            5      sell     apartment  129000.0      USD   \n",
       "9           10      sell     apartment   87000.0      USD   \n",
       "29          30      sell     apartment  118000.0      USD   \n",
       "40          41      sell     apartment   57000.0      USD   \n",
       "41          42      sell     apartment   90000.0      USD   \n",
       "\n",
       "    price_aprox_local_currency  price_aprox_usd  surface_total_in_m2  \\\n",
       "4                    1955949.6         129000.0                 76.0   \n",
       "9                    1319128.8          87000.0                 48.0   \n",
       "29                   1789163.2         118000.0                  NaN   \n",
       "40                    864256.8          57000.0                 42.0   \n",
       "41                   1364616.0          90000.0                 57.0   \n",
       "\n",
       "    surface_covered_in_m2  price_usd_per_m2  price_per_m2  floor  rooms  \\\n",
       "4                    70.0       1697.368421   1842.857143    NaN    NaN   \n",
       "9                    42.0       1812.500000   2071.428571    NaN    NaN   \n",
       "29                   54.0               NaN   2185.185185    NaN    2.0   \n",
       "40                   42.0       1357.142857   1357.142857    5.0    2.0   \n",
       "41                   50.0       1578.947368   1800.000000    NaN    3.0   \n",
       "\n",
       "    expenses                                      properati_url        lat  \\\n",
       "4        NaN  http://chacarita.properati.com.ar/10qlv_venta_... -34.584651   \n",
       "9        NaN  http://villa-luro.properati.com.ar/12m82_venta... -34.638979   \n",
       "29       NaN  http://caballito.properati.com.ar/11wqh_venta_... -34.615847   \n",
       "40     364.0  http://constitucion.properati.com.ar/k2f0_vent... -34.625222   \n",
       "41     450.0  http://once.properati.com.ar/suwa_venta_depart... -34.610610   \n",
       "\n",
       "          lon neighbourhood  \n",
       "4  -58.454693     Chacarita  \n",
       "9  -58.500115    Villa Luro  \n",
       "29 -58.459957     Caballito  \n",
       "40 -58.382382  Constitución  \n",
       "41 -58.412511          Once  "
      ]
     },
     "execution_count": 7,
     "metadata": {},
     "output_type": "execute_result"
    }
   ],
   "source": [
    "frames[0].head()"
   ]
  },
  {
   "cell_type": "code",
   "execution_count": 8,
   "id": "39aaf7c7-cdcc-4708-ac2c-1ac4d4c71534",
   "metadata": {
    "tags": []
   },
   "outputs": [
    {
     "data": {
      "text/html": [
       "<div>\n",
       "<style scoped>\n",
       "    .dataframe tbody tr th:only-of-type {\n",
       "        vertical-align: middle;\n",
       "    }\n",
       "\n",
       "    .dataframe tbody tr th {\n",
       "        vertical-align: top;\n",
       "    }\n",
       "\n",
       "    .dataframe thead th {\n",
       "        text-align: right;\n",
       "    }\n",
       "</style>\n",
       "<table border=\"1\" class=\"dataframe\">\n",
       "  <thead>\n",
       "    <tr style=\"text-align: right;\">\n",
       "      <th></th>\n",
       "      <th>Unnamed: 0</th>\n",
       "      <th>operation</th>\n",
       "      <th>property_type</th>\n",
       "      <th>price</th>\n",
       "      <th>currency</th>\n",
       "      <th>price_aprox_local_currency</th>\n",
       "      <th>price_aprox_usd</th>\n",
       "      <th>surface_total_in_m2</th>\n",
       "      <th>surface_covered_in_m2</th>\n",
       "      <th>price_usd_per_m2</th>\n",
       "      <th>price_per_m2</th>\n",
       "      <th>floor</th>\n",
       "      <th>rooms</th>\n",
       "      <th>expenses</th>\n",
       "      <th>properati_url</th>\n",
       "      <th>lat</th>\n",
       "      <th>lon</th>\n",
       "      <th>neighbourhood</th>\n",
       "    </tr>\n",
       "  </thead>\n",
       "  <tbody>\n",
       "    <tr>\n",
       "      <th>0</th>\n",
       "      <td>5</td>\n",
       "      <td>sell</td>\n",
       "      <td>apartment</td>\n",
       "      <td>129000.0</td>\n",
       "      <td>USD</td>\n",
       "      <td>1955949.6</td>\n",
       "      <td>129000.0</td>\n",
       "      <td>76.0</td>\n",
       "      <td>70.0</td>\n",
       "      <td>1697.368421</td>\n",
       "      <td>1842.857143</td>\n",
       "      <td>NaN</td>\n",
       "      <td>NaN</td>\n",
       "      <td>NaN</td>\n",
       "      <td>http://chacarita.properati.com.ar/10qlv_venta_...</td>\n",
       "      <td>-34.584651</td>\n",
       "      <td>-58.454693</td>\n",
       "      <td>Chacarita</td>\n",
       "    </tr>\n",
       "    <tr>\n",
       "      <th>1</th>\n",
       "      <td>10</td>\n",
       "      <td>sell</td>\n",
       "      <td>apartment</td>\n",
       "      <td>87000.0</td>\n",
       "      <td>USD</td>\n",
       "      <td>1319128.8</td>\n",
       "      <td>87000.0</td>\n",
       "      <td>48.0</td>\n",
       "      <td>42.0</td>\n",
       "      <td>1812.500000</td>\n",
       "      <td>2071.428571</td>\n",
       "      <td>NaN</td>\n",
       "      <td>NaN</td>\n",
       "      <td>NaN</td>\n",
       "      <td>http://villa-luro.properati.com.ar/12m82_venta...</td>\n",
       "      <td>-34.638979</td>\n",
       "      <td>-58.500115</td>\n",
       "      <td>Villa Luro</td>\n",
       "    </tr>\n",
       "    <tr>\n",
       "      <th>2</th>\n",
       "      <td>30</td>\n",
       "      <td>sell</td>\n",
       "      <td>apartment</td>\n",
       "      <td>118000.0</td>\n",
       "      <td>USD</td>\n",
       "      <td>1789163.2</td>\n",
       "      <td>118000.0</td>\n",
       "      <td>NaN</td>\n",
       "      <td>54.0</td>\n",
       "      <td>NaN</td>\n",
       "      <td>2185.185185</td>\n",
       "      <td>NaN</td>\n",
       "      <td>2.0</td>\n",
       "      <td>NaN</td>\n",
       "      <td>http://caballito.properati.com.ar/11wqh_venta_...</td>\n",
       "      <td>-34.615847</td>\n",
       "      <td>-58.459957</td>\n",
       "      <td>Caballito</td>\n",
       "    </tr>\n",
       "    <tr>\n",
       "      <th>3</th>\n",
       "      <td>41</td>\n",
       "      <td>sell</td>\n",
       "      <td>apartment</td>\n",
       "      <td>57000.0</td>\n",
       "      <td>USD</td>\n",
       "      <td>864256.8</td>\n",
       "      <td>57000.0</td>\n",
       "      <td>42.0</td>\n",
       "      <td>42.0</td>\n",
       "      <td>1357.142857</td>\n",
       "      <td>1357.142857</td>\n",
       "      <td>5.0</td>\n",
       "      <td>2.0</td>\n",
       "      <td>364.0</td>\n",
       "      <td>http://constitucion.properati.com.ar/k2f0_vent...</td>\n",
       "      <td>-34.625222</td>\n",
       "      <td>-58.382382</td>\n",
       "      <td>Constitución</td>\n",
       "    </tr>\n",
       "    <tr>\n",
       "      <th>4</th>\n",
       "      <td>42</td>\n",
       "      <td>sell</td>\n",
       "      <td>apartment</td>\n",
       "      <td>90000.0</td>\n",
       "      <td>USD</td>\n",
       "      <td>1364616.0</td>\n",
       "      <td>90000.0</td>\n",
       "      <td>57.0</td>\n",
       "      <td>50.0</td>\n",
       "      <td>1578.947368</td>\n",
       "      <td>1800.000000</td>\n",
       "      <td>NaN</td>\n",
       "      <td>3.0</td>\n",
       "      <td>450.0</td>\n",
       "      <td>http://once.properati.com.ar/suwa_venta_depart...</td>\n",
       "      <td>-34.610610</td>\n",
       "      <td>-58.412511</td>\n",
       "      <td>Once</td>\n",
       "    </tr>\n",
       "  </tbody>\n",
       "</table>\n",
       "</div>"
      ],
      "text/plain": [
       "   Unnamed: 0 operation property_type     price currency  \\\n",
       "0           5      sell     apartment  129000.0      USD   \n",
       "1          10      sell     apartment   87000.0      USD   \n",
       "2          30      sell     apartment  118000.0      USD   \n",
       "3          41      sell     apartment   57000.0      USD   \n",
       "4          42      sell     apartment   90000.0      USD   \n",
       "\n",
       "   price_aprox_local_currency  price_aprox_usd  surface_total_in_m2  \\\n",
       "0                   1955949.6         129000.0                 76.0   \n",
       "1                   1319128.8          87000.0                 48.0   \n",
       "2                   1789163.2         118000.0                  NaN   \n",
       "3                    864256.8          57000.0                 42.0   \n",
       "4                   1364616.0          90000.0                 57.0   \n",
       "\n",
       "   surface_covered_in_m2  price_usd_per_m2  price_per_m2  floor  rooms  \\\n",
       "0                   70.0       1697.368421   1842.857143    NaN    NaN   \n",
       "1                   42.0       1812.500000   2071.428571    NaN    NaN   \n",
       "2                   54.0               NaN   2185.185185    NaN    2.0   \n",
       "3                   42.0       1357.142857   1357.142857    5.0    2.0   \n",
       "4                   50.0       1578.947368   1800.000000    NaN    3.0   \n",
       "\n",
       "   expenses                                      properati_url        lat  \\\n",
       "0       NaN  http://chacarita.properati.com.ar/10qlv_venta_... -34.584651   \n",
       "1       NaN  http://villa-luro.properati.com.ar/12m82_venta... -34.638979   \n",
       "2       NaN  http://caballito.properati.com.ar/11wqh_venta_... -34.615847   \n",
       "3     364.0  http://constitucion.properati.com.ar/k2f0_vent... -34.625222   \n",
       "4     450.0  http://once.properati.com.ar/suwa_venta_depart... -34.610610   \n",
       "\n",
       "         lon neighbourhood  \n",
       "0 -58.454693     Chacarita  \n",
       "1 -58.500115    Villa Luro  \n",
       "2 -58.459957     Caballito  \n",
       "3 -58.382382  Constitución  \n",
       "4 -58.412511          Once  "
      ]
     },
     "execution_count": 8,
     "metadata": {},
     "output_type": "execute_result"
    }
   ],
   "source": [
    "#concatenate the dataframes\n",
    "df = pd.concat(frames, ignore_index=True)\n",
    "df.head()"
   ]
  },
  {
   "cell_type": "code",
   "execution_count": 9,
   "id": "21ef35bf-4469-45c7-ac88-08c4628506fe",
   "metadata": {
    "tags": []
   },
   "outputs": [
    {
     "data": {
      "text/plain": [
       "(6582, 18)"
      ]
     },
     "execution_count": 9,
     "metadata": {},
     "output_type": "execute_result"
    }
   ],
   "source": [
    "df.shape"
   ]
  },
  {
   "cell_type": "code",
   "execution_count": 10,
   "id": "4c63e7b8-2bce-47a7-8974-b12f6fc2bce6",
   "metadata": {
    "tags": []
   },
   "outputs": [
    {
     "name": "stdout",
     "output_type": "stream",
     "text": [
      "<class 'pandas.core.frame.DataFrame'>\n",
      "RangeIndex: 6582 entries, 0 to 6581\n",
      "Data columns (total 18 columns):\n",
      " #   Column                      Non-Null Count  Dtype  \n",
      "---  ------                      --------------  -----  \n",
      " 0   Unnamed: 0                  6582 non-null   int64  \n",
      " 1   operation                   6582 non-null   object \n",
      " 2   property_type               6582 non-null   object \n",
      " 3   price                       6582 non-null   float64\n",
      " 4   currency                    6582 non-null   object \n",
      " 5   price_aprox_local_currency  6582 non-null   float64\n",
      " 6   price_aprox_usd             6582 non-null   float64\n",
      " 7   surface_total_in_m2         4752 non-null   float64\n",
      " 8   surface_covered_in_m2       6582 non-null   float64\n",
      " 9   price_usd_per_m2            4536 non-null   float64\n",
      " 10  price_per_m2                6582 non-null   float64\n",
      " 11  floor                       1900 non-null   float64\n",
      " 12  rooms                       5286 non-null   float64\n",
      " 13  expenses                    1739 non-null   float64\n",
      " 14  properati_url               6582 non-null   object \n",
      " 15  lat                         6316 non-null   float64\n",
      " 16  lon                         6316 non-null   float64\n",
      " 17  neighbourhood               6582 non-null   object \n",
      "dtypes: float64(12), int64(1), object(5)\n",
      "memory usage: 925.7+ KB\n"
     ]
    }
   ],
   "source": [
    "df.info()"
   ]
  },
  {
   "cell_type": "code",
   "execution_count": 11,
   "id": "aabbde87-da73-4263-a955-4fba0df85fe6",
   "metadata": {
    "tags": []
   },
   "outputs": [
    {
     "name": "stdout",
     "output_type": "stream",
     "text": [
      "<class 'pandas.core.frame.DataFrame'>\n",
      "RangeIndex: 6582 entries, 0 to 6581\n",
      "Data columns (total 18 columns):\n",
      " #   Column                      Non-Null Count  Dtype  \n",
      "---  ------                      --------------  -----  \n",
      " 0   Unnamed: 0                  6582 non-null   int64  \n",
      " 1   operation                   6582 non-null   object \n",
      " 2   property_type               6582 non-null   object \n",
      " 3   price                       6582 non-null   float64\n",
      " 4   currency                    6582 non-null   object \n",
      " 5   price_aprox_local_currency  6582 non-null   float64\n",
      " 6   price_aprox_usd             6582 non-null   float64\n",
      " 7   surface_total_in_m2         4752 non-null   float64\n",
      " 8   surface_covered_in_m2       6582 non-null   float64\n",
      " 9   price_usd_per_m2            4536 non-null   float64\n",
      " 10  price_per_m2                6582 non-null   float64\n",
      " 11  floor                       1900 non-null   float64\n",
      " 12  rooms                       5286 non-null   float64\n",
      " 13  expenses                    1739 non-null   float64\n",
      " 14  properati_url               6582 non-null   object \n",
      " 15  lat                         6316 non-null   float64\n",
      " 16  lon                         6316 non-null   float64\n",
      " 17  neighbourhood               6582 non-null   object \n",
      "dtypes: float64(12), int64(1), object(5)\n",
      "memory usage: 925.7+ KB\n"
     ]
    }
   ],
   "source": [
    "#create a copy of the dataframe\n",
    "dfc = df.copy()\n",
    "dfc.info()"
   ]
  },
  {
   "cell_type": "code",
   "execution_count": 12,
   "id": "ba14d64f-9561-4b68-aa0b-7a4ac8983765",
   "metadata": {
    "tags": []
   },
   "outputs": [],
   "source": [
    "#seperating column for neighbourhood to be subset\n",
    "#df[\"neighbourhood\"] = df[\"place_with_parent_names\"].str.split(\"|\", expand=True)[3]\n",
    "    #df.drop(columns=\"place_with_parent_names\", inplace=True)"
   ]
  },
  {
   "cell_type": "markdown",
   "id": "3ffff578-f39b-4720-be0b-957d6ff011d6",
   "metadata": {},
   "source": [
    "## Model Building & Testing "
   ]
  },
  {
   "cell_type": "code",
   "execution_count": 13,
   "id": "1d5dbb4f-1e76-471c-924b-aba6b07b0642",
   "metadata": {
    "tags": []
   },
   "outputs": [],
   "source": [
    "features = [\"neighbourhood\"]\n",
    "target = \"price_aprox_usd\"\n",
    "X_train = df[features]\n",
    "y_train = df[target]"
   ]
  },
  {
   "cell_type": "code",
   "execution_count": 14,
   "id": "99d7142a-79a3-421b-a661-eb246f70ef7c",
   "metadata": {
    "tags": []
   },
   "outputs": [
    {
     "name": "stdout",
     "output_type": "stream",
     "text": [
      "Training mean: 132383.83701458524\n",
      "The Baseline Mae: 44860.10834274133\n"
     ]
    }
   ],
   "source": [
    "y_mean = y_train.mean()\n",
    "y_pred_baseline = [y_mean] * len(y_train)\n",
    "print(\"Training mean:\", y_mean)\n",
    "print(\"The Baseline Mae:\", mean_absolute_error(y_train, y_pred_baseline))"
   ]
  },
  {
   "cell_type": "code",
   "execution_count": 15,
   "id": "cf5075a6-0a49-42bd-8505-6a7b13ce20ce",
   "metadata": {},
   "outputs": [
    {
     "name": "stdout",
     "output_type": "stream",
     "text": [
      "(6582, 57)\n",
      "<bound method NDFrame.head of       neighbourhood_Chacarita  neighbourhood_Villa Luro  \\\n",
      "0                           1                         0   \n",
      "1                           0                         1   \n",
      "2                           0                         0   \n",
      "3                           0                         0   \n",
      "4                           0                         0   \n",
      "...                       ...                       ...   \n",
      "6577                        0                         0   \n",
      "6578                        0                         0   \n",
      "6579                        0                         0   \n",
      "6580                        0                         0   \n",
      "6581                        0                         0   \n",
      "\n",
      "      neighbourhood_Caballito  neighbourhood_Constitución  neighbourhood_Once  \\\n",
      "0                           0                           0                   0   \n",
      "1                           0                           0                   0   \n",
      "2                           1                           0                   0   \n",
      "3                           0                           1                   0   \n",
      "4                           0                           0                   1   \n",
      "...                       ...                         ...                 ...   \n",
      "6577                        0                           0                   0   \n",
      "6578                        0                           0                   0   \n",
      "6579                        0                           0                   0   \n",
      "6580                        0                           0                   0   \n",
      "6581                        0                           0                   0   \n",
      "\n",
      "      neighbourhood_Almagro  neighbourhood_Palermo  neighbourhood_Flores  \\\n",
      "0                         0                      0                     0   \n",
      "1                         0                      0                     0   \n",
      "2                         0                      0                     0   \n",
      "3                         0                      0                     0   \n",
      "4                         0                      0                     0   \n",
      "...                     ...                    ...                   ...   \n",
      "6577                      0                      0                     0   \n",
      "6578                      0                      1                     0   \n",
      "6579                      0                      0                     0   \n",
      "6580                      0                      0                     0   \n",
      "6581                      0                      0                     0   \n",
      "\n",
      "      neighbourhood_Belgrano  neighbourhood_Liniers  ...  \\\n",
      "0                          0                      0  ...   \n",
      "1                          0                      0  ...   \n",
      "2                          0                      0  ...   \n",
      "3                          0                      0  ...   \n",
      "4                          0                      0  ...   \n",
      "...                      ...                    ...  ...   \n",
      "6577                       0                      1  ...   \n",
      "6578                       0                      0  ...   \n",
      "6579                       0                      0  ...   \n",
      "6580                       0                      0  ...   \n",
      "6581                       0                      0  ...   \n",
      "\n",
      "      neighbourhood_Puerto Madero  neighbourhood_Agronomía  \\\n",
      "0                               0                        0   \n",
      "1                               0                        0   \n",
      "2                               0                        0   \n",
      "3                               0                        0   \n",
      "4                               0                        0   \n",
      "...                           ...                      ...   \n",
      "6577                            0                        0   \n",
      "6578                            0                        0   \n",
      "6579                            0                        0   \n",
      "6580                            0                        0   \n",
      "6581                            0                        0   \n",
      "\n",
      "      neighbourhood_Monte Castro  neighbourhood_Tribunales  \\\n",
      "0                              0                         0   \n",
      "1                              0                         0   \n",
      "2                              0                         0   \n",
      "3                              0                         0   \n",
      "4                              0                         0   \n",
      "...                          ...                       ...   \n",
      "6577                           0                         0   \n",
      "6578                           0                         0   \n",
      "6579                           0                         0   \n",
      "6580                           0                         0   \n",
      "6581                           0                         0   \n",
      "\n",
      "      neighbourhood_Villa Santa Rita  neighbourhood_Velez Sarsfield  \\\n",
      "0                                  0                              0   \n",
      "1                                  0                              0   \n",
      "2                                  0                              0   \n",
      "3                                  0                              0   \n",
      "4                                  0                              0   \n",
      "...                              ...                            ...   \n",
      "6577                               0                              0   \n",
      "6578                               0                              0   \n",
      "6579                               0                              0   \n",
      "6580                               0                              0   \n",
      "6581                               0                              0   \n",
      "\n",
      "      neighbourhood_Villa Soldati  neighbourhood_Villa Real  \\\n",
      "0                               0                         0   \n",
      "1                               0                         0   \n",
      "2                               0                         0   \n",
      "3                               0                         0   \n",
      "4                               0                         0   \n",
      "...                           ...                       ...   \n",
      "6577                            0                         0   \n",
      "6578                            0                         0   \n",
      "6579                            0                         0   \n",
      "6580                            0                         0   \n",
      "6581                            0                         0   \n",
      "\n",
      "      neighbourhood_Pompeya  neighbourhood_Catalinas  \n",
      "0                         0                        0  \n",
      "1                         0                        0  \n",
      "2                         0                        0  \n",
      "3                         0                        0  \n",
      "4                         0                        0  \n",
      "...                     ...                      ...  \n",
      "6577                      0                        0  \n",
      "6578                      0                        0  \n",
      "6579                      0                        0  \n",
      "6580                      0                        0  \n",
      "6581                      0                        0  \n",
      "\n",
      "[6582 rows x 57 columns]>\n"
     ]
    }
   ],
   "source": [
    "#One hot encoding - Instantiate\n",
    "ohe = OneHotEncoder(use_cat_names=True)\n",
    "#fit \n",
    "ohe.fit(X_train)\n",
    "#Transform\n",
    "XT_train = ohe.transform(X_train)\n",
    "print(XT_train.shape)\n",
    "print(XT_train.head)"
   ]
  },
  {
   "cell_type": "code",
   "execution_count": 17,
   "id": "af189f66-7729-415e-91bc-ce254a29f086",
   "metadata": {},
   "outputs": [
    {
     "data": {
      "text/html": [
       "<style>#sk-container-id-1 {color: black;background-color: white;}#sk-container-id-1 pre{padding: 0;}#sk-container-id-1 div.sk-toggleable {background-color: white;}#sk-container-id-1 label.sk-toggleable__label {cursor: pointer;display: block;width: 100%;margin-bottom: 0;padding: 0.3em;box-sizing: border-box;text-align: center;}#sk-container-id-1 label.sk-toggleable__label-arrow:before {content: \"▸\";float: left;margin-right: 0.25em;color: #696969;}#sk-container-id-1 label.sk-toggleable__label-arrow:hover:before {color: black;}#sk-container-id-1 div.sk-estimator:hover label.sk-toggleable__label-arrow:before {color: black;}#sk-container-id-1 div.sk-toggleable__content {max-height: 0;max-width: 0;overflow: hidden;text-align: left;background-color: #f0f8ff;}#sk-container-id-1 div.sk-toggleable__content pre {margin: 0.2em;color: black;border-radius: 0.25em;background-color: #f0f8ff;}#sk-container-id-1 input.sk-toggleable__control:checked~div.sk-toggleable__content {max-height: 200px;max-width: 100%;overflow: auto;}#sk-container-id-1 input.sk-toggleable__control:checked~label.sk-toggleable__label-arrow:before {content: \"▾\";}#sk-container-id-1 div.sk-estimator input.sk-toggleable__control:checked~label.sk-toggleable__label {background-color: #d4ebff;}#sk-container-id-1 div.sk-label input.sk-toggleable__control:checked~label.sk-toggleable__label {background-color: #d4ebff;}#sk-container-id-1 input.sk-hidden--visually {border: 0;clip: rect(1px 1px 1px 1px);clip: rect(1px, 1px, 1px, 1px);height: 1px;margin: -1px;overflow: hidden;padding: 0;position: absolute;width: 1px;}#sk-container-id-1 div.sk-estimator {font-family: monospace;background-color: #f0f8ff;border: 1px dotted black;border-radius: 0.25em;box-sizing: border-box;margin-bottom: 0.5em;}#sk-container-id-1 div.sk-estimator:hover {background-color: #d4ebff;}#sk-container-id-1 div.sk-parallel-item::after {content: \"\";width: 100%;border-bottom: 1px solid gray;flex-grow: 1;}#sk-container-id-1 div.sk-label:hover label.sk-toggleable__label {background-color: #d4ebff;}#sk-container-id-1 div.sk-serial::before {content: \"\";position: absolute;border-left: 1px solid gray;box-sizing: border-box;top: 0;bottom: 0;left: 50%;z-index: 0;}#sk-container-id-1 div.sk-serial {display: flex;flex-direction: column;align-items: center;background-color: white;padding-right: 0.2em;padding-left: 0.2em;position: relative;}#sk-container-id-1 div.sk-item {position: relative;z-index: 1;}#sk-container-id-1 div.sk-parallel {display: flex;align-items: stretch;justify-content: center;background-color: white;position: relative;}#sk-container-id-1 div.sk-item::before, #sk-container-id-1 div.sk-parallel-item::before {content: \"\";position: absolute;border-left: 1px solid gray;box-sizing: border-box;top: 0;bottom: 0;left: 50%;z-index: -1;}#sk-container-id-1 div.sk-parallel-item {display: flex;flex-direction: column;z-index: 1;position: relative;background-color: white;}#sk-container-id-1 div.sk-parallel-item:first-child::after {align-self: flex-end;width: 50%;}#sk-container-id-1 div.sk-parallel-item:last-child::after {align-self: flex-start;width: 50%;}#sk-container-id-1 div.sk-parallel-item:only-child::after {width: 0;}#sk-container-id-1 div.sk-dashed-wrapped {border: 1px dashed gray;margin: 0 0.4em 0.5em 0.4em;box-sizing: border-box;padding-bottom: 0.4em;background-color: white;}#sk-container-id-1 div.sk-label label {font-family: monospace;font-weight: bold;display: inline-block;line-height: 1.2em;}#sk-container-id-1 div.sk-label-container {text-align: center;}#sk-container-id-1 div.sk-container {/* jupyter's `normalize.less` sets `[hidden] { display: none; }` but bootstrap.min.css set `[hidden] { display: none !important; }` so we also need the `!important` here to be able to override the default hidden behavior on the sphinx rendered scikit-learn.org. See: https://github.com/scikit-learn/scikit-learn/issues/21755 */display: inline-block !important;position: relative;}#sk-container-id-1 div.sk-text-repr-fallback {display: none;}</style><div id=\"sk-container-id-1\" class=\"sk-top-container\"><div class=\"sk-text-repr-fallback\"><pre>Pipeline(steps=[(&#x27;onehotencoder&#x27;,\n",
       "                 OneHotEncoder(cols=[&#x27;neighbourhood&#x27;], use_cat_names=True)),\n",
       "                (&#x27;linearregression&#x27;, LinearRegression())])</pre><b>In a Jupyter environment, please rerun this cell to show the HTML representation or trust the notebook. <br />On GitHub, the HTML representation is unable to render, please try loading this page with nbviewer.org.</b></div><div class=\"sk-container\" hidden><div class=\"sk-item sk-dashed-wrapped\"><div class=\"sk-label-container\"><div class=\"sk-label sk-toggleable\"><input class=\"sk-toggleable__control sk-hidden--visually\" id=\"sk-estimator-id-1\" type=\"checkbox\" ><label for=\"sk-estimator-id-1\" class=\"sk-toggleable__label sk-toggleable__label-arrow\">Pipeline</label><div class=\"sk-toggleable__content\"><pre>Pipeline(steps=[(&#x27;onehotencoder&#x27;,\n",
       "                 OneHotEncoder(cols=[&#x27;neighbourhood&#x27;], use_cat_names=True)),\n",
       "                (&#x27;linearregression&#x27;, LinearRegression())])</pre></div></div></div><div class=\"sk-serial\"><div class=\"sk-item\"><div class=\"sk-estimator sk-toggleable\"><input class=\"sk-toggleable__control sk-hidden--visually\" id=\"sk-estimator-id-2\" type=\"checkbox\" ><label for=\"sk-estimator-id-2\" class=\"sk-toggleable__label sk-toggleable__label-arrow\">OneHotEncoder</label><div class=\"sk-toggleable__content\"><pre>OneHotEncoder(cols=[&#x27;neighbourhood&#x27;], use_cat_names=True)</pre></div></div></div><div class=\"sk-item\"><div class=\"sk-estimator sk-toggleable\"><input class=\"sk-toggleable__control sk-hidden--visually\" id=\"sk-estimator-id-3\" type=\"checkbox\" ><label for=\"sk-estimator-id-3\" class=\"sk-toggleable__label sk-toggleable__label-arrow\">LinearRegression</label><div class=\"sk-toggleable__content\"><pre>LinearRegression()</pre></div></div></div></div></div></div></div>"
      ],
      "text/plain": [
       "Pipeline(steps=[('onehotencoder',\n",
       "                 OneHotEncoder(cols=['neighbourhood'], use_cat_names=True)),\n",
       "                ('linearregression', LinearRegression())])"
      ]
     },
     "execution_count": 17,
     "metadata": {},
     "output_type": "execute_result"
    }
   ],
   "source": [
    "#Building the model with the pipeline\n",
    "model = make_pipeline(\n",
    "        OneHotEncoder(use_cat_names=True),\n",
    "        LinearRegression()\n",
    ")\n",
    "\n",
    "model.fit(X_train, y_train)"
   ]
  },
  {
   "cell_type": "code",
   "execution_count": 19,
   "id": "b0f713c4-a9d5-40c4-bc1b-02d7b28565dc",
   "metadata": {
    "tags": []
   },
   "outputs": [
    {
     "name": "stdout",
     "output_type": "stream",
     "text": [
      "Training MAE: 39346.49551959891\n"
     ]
    }
   ],
   "source": [
    "#Mean_absolute_error\n",
    "y_pred_baseline = model.predict(X_train)\n",
    "MAE = mean_absolute_error(y_train, y_pred_baseline)\n",
    "print(\"Training MAE:\", MAE)"
   ]
  },
  {
   "cell_type": "markdown",
   "id": "2ed90d59-db30-4856-8303-07e87479ca6e",
   "metadata": {},
   "source": [
    "## Generalisation"
   ]
  },
  {
   "cell_type": "code",
   "execution_count": 21,
   "id": "2b3ce75f-ac56-426f-afcd-291d45c47fda",
   "metadata": {
    "tags": []
   },
   "outputs": [],
   "source": [
    "X_test = pd.read_csv(\"C:\\\\Users\\\\admin\\\\Desktop\\\\Personal_stuff\\\\PROJECTS\\\\Proj2_Price model/buenos-aires-test-features.csv\", encoding= \"ISO-8859-2\")\n"
   ]
  },
  {
   "cell_type": "code",
   "execution_count": null,
   "id": "e5bf4150-16a7-43e7-8314-0086f72f2112",
   "metadata": {},
   "outputs": [],
   "source": []
  }
 ],
 "metadata": {
  "kernelspec": {
   "display_name": "Python 3 (ipykernel)",
   "language": "python",
   "name": "python3"
  },
  "language_info": {
   "codemirror_mode": {
    "name": "ipython",
    "version": 3
   },
   "file_extension": ".py",
   "mimetype": "text/x-python",
   "name": "python",
   "nbconvert_exporter": "python",
   "pygments_lexer": "ipython3",
   "version": "3.11.3"
  }
 },
 "nbformat": 4,
 "nbformat_minor": 5
}
