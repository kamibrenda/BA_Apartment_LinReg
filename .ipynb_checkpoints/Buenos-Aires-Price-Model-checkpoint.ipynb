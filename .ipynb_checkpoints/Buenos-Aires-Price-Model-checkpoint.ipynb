{
 "cells": [
  {
   "cell_type": "code",
   "execution_count": 1,
   "id": "3ebb9328-b8a1-4cea-a4e6-e4f4727dbbc2",
   "metadata": {
    "tags": []
   },
   "outputs": [
    {
     "data": {
      "text/plain": [
       "'C:\\\\Users\\\\admin\\\\Desktop\\\\Personal_stuff\\\\PROJECTS\\\\Proj2_Price model'"
      ]
     },
     "execution_count": 1,
     "metadata": {},
     "output_type": "execute_result"
    }
   ],
   "source": [
    "pwd"
   ]
  },
  {
   "cell_type": "code",
   "execution_count": 2,
   "id": "42556137-3437-4712-8e9c-42a03d3e3430",
   "metadata": {
    "tags": []
   },
   "outputs": [],
   "source": [
    "#Import and load the libraries and modules\n",
    "import pandas as pd\n",
    "import matplotlib.pyplot as plt\n",
    "from sklearn.linear_model import LinearRegression\n",
    "from sklearn.metrics import mean_absolute_error"
   ]
  },
  {
   "cell_type": "markdown",
   "id": "18da995d-9fe8-487b-ac51-865191399405",
   "metadata": {},
   "source": [
    "## Data Wrangling"
   ]
  },
  {
   "cell_type": "code",
   "execution_count": 20,
   "id": "aa050026-7ff4-47dd-974a-b3df76db28d9",
   "metadata": {
    "tags": []
   },
   "outputs": [],
   "source": [
    "#Loading the dataset with a function\n",
    "def wrangle (filepath):\n",
    "    #Load the CSV file into file path-local function applied\n",
    "    df = pd.read_csv(filepath, encoding='ISO-8859-1')\n",
    "    #To display 'Capital Federal' only \n",
    "    mask_ba = df[\"place_with_parent_names\"].str.contains(\"Capital Federal\")\n",
    "    #To display 'Apartment' only \n",
    "    mask_apt = df[\"property_type\"] == \"apartment\" \n",
    "    #To display price below'400,000'\n",
    "    mask_price = df[\"price_aprox_usd\"] < 400_000\n",
    "    \n",
    "    df = df[ mask_ba & mask_apt & mask_price]\n",
    "    return df"
   ]
  },
  {
   "cell_type": "code",
   "execution_count": 21,
   "id": "284d86c2-3e6f-4290-abd5-aae7ab5ced7f",
   "metadata": {},
   "outputs": [
    {
     "name": "stdout",
     "output_type": "stream",
     "text": [
      "df shape: (1781, 17)\n",
      "<class 'pandas.core.frame.DataFrame'>\n",
      "Int64Index: 1781 entries, 0 to 8604\n",
      "Data columns (total 17 columns):\n",
      " #   Column                      Non-Null Count  Dtype  \n",
      "---  ------                      --------------  -----  \n",
      " 0   Unnamed: 0                  1781 non-null   int64  \n",
      " 1   operation                   1781 non-null   object \n",
      " 2   property_type               1781 non-null   object \n",
      " 3   place_with_parent_names     1781 non-null   object \n",
      " 4   lat-lon                     1723 non-null   object \n",
      " 5   price                       1781 non-null   float64\n",
      " 6   currency                    1781 non-null   object \n",
      " 7   price_aprox_local_currency  1781 non-null   float64\n",
      " 8   price_aprox_usd             1781 non-null   float64\n",
      " 9   surface_total_in_m2         1247 non-null   float64\n",
      " 10  surface_covered_in_m2       1635 non-null   float64\n",
      " 11  price_usd_per_m2            1198 non-null   float64\n",
      " 12  price_per_m2                1618 non-null   float64\n",
      " 13  floor                       482 non-null    float64\n",
      " 14  rooms                       1385 non-null   float64\n",
      " 15  expenses                    455 non-null    float64\n",
      " 16  properati_url               1781 non-null   object \n",
      "dtypes: float64(10), int64(1), object(6)\n",
      "memory usage: 250.5+ KB\n"
     ]
    }
   ],
   "source": [
    "#Load the CSV file into the filepath \n",
    "df = wrangle(\"C:\\\\Users\\\\admin\\\\Desktop\\\\Personal_stuff\\\\PROJECTS\\\\Proj2_Price model/buenos-aires-real-estate-1.csv\")\n",
    "print(\"df shape:\", df.shape)\n",
    "df.head()\n",
    "df.info()"
   ]
  },
  {
   "cell_type": "markdown",
   "id": "d34b792c-4fb6-450b-85c6-d9c48e73ecde",
   "metadata": {},
   "source": [
    "The above information has been modelled within the function to only have the state of Capital Federal containing apartments below 400,000 USD. "
   ]
  },
  {
   "cell_type": "code",
   "execution_count": null,
   "id": "4a122aac-af10-4fff-bfac-497437fecbeb",
   "metadata": {},
   "outputs": [],
   "source": []
  }
 ],
 "metadata": {
  "kernelspec": {
   "display_name": "Python 3 (ipykernel)",
   "language": "python",
   "name": "python3"
  },
  "language_info": {
   "codemirror_mode": {
    "name": "ipython",
    "version": 3
   },
   "file_extension": ".py",
   "mimetype": "text/x-python",
   "name": "python",
   "nbconvert_exporter": "python",
   "pygments_lexer": "ipython3",
   "version": "3.11.3"
  }
 },
 "nbformat": 4,
 "nbformat_minor": 5
}
