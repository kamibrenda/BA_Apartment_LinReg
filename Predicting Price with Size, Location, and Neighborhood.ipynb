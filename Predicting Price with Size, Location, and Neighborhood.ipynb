{
 "cells": [
  {
   "cell_type": "code",
   "execution_count": 1,
   "id": "1447392a-a08f-4bff-bcf2-4bc823e1e193",
   "metadata": {
    "tags": []
   },
   "outputs": [],
   "source": [
    "import pandas as pd\n",
    "import seaborn as sns\n",
    "from category_encoders import OneHotEncoder\n",
    "from ipywidgets import Dropdown, FloatSlider, IntSlider, interact\n",
    "from sklearn.impute import SimpleImputer\n",
    "from sklearn.linear_model import LinearRegression, Ridge  # noqa F401\n",
    "from sklearn.metrics import mean_absolute_error\n",
    "from sklearn.pipeline import make_pipeline\n",
    "from sklearn.utils.validation import check_is_fitted"
   ]
  },
  {
   "cell_type": "code",
   "execution_count": 2,
   "id": "8b2fa546-81f2-428e-aea0-191def45df27",
   "metadata": {
    "tags": []
   },
   "outputs": [],
   "source": [
    "#Loading the dataset with a function\n",
    "def wrangle (filepath):\n",
    "    #Load the CSV file into file path-local function applied\n",
    "    df = pd.read_csv(filepath, encoding='ISO-8859-1')\n",
    "    #To display 'Capital Federal' only \n",
    "    mask_ba = df[\"place_with_parent_names\"].str.contains(\"Capital Federal\")\n",
    "    #To display 'Apartment' only \n",
    "    mask_apt = df[\"property_type\"] == \"apartment\" \n",
    "    #To display price below'400,000'\n",
    "    mask_price = df[\"price_aprox_usd\"] < 400_000\n",
    "    #Subset\n",
    "    df = df[ mask_ba & mask_apt & mask_price]\n",
    "    \n",
    "    #Remove outliers by 'surface_area_m2' -----removing the 10th and 90th quantiles\n",
    "    low = df[\"surface_covered_in_m2\"].quantile(0.1)\n",
    "    high = df[\"surface_covered_in_m2\"].quantile(0.9)\n",
    "    \n",
    "    mask_area = df[\"surface_covered_in_m2\"].between(low, high)\n",
    "    \n",
    "    df = df[mask_area]\n",
    "    \n",
    "    #split the lat-lon column\n",
    "    df[[\"lat\", \"lon\"]] = df[\"lat-lon\"].str.split(\",\", expand=True).astype(float)\n",
    "    df.drop(columns=\"lat-lon\", inplace=True)\n",
    "    \n",
    "    #split place_with_parent_names\n",
    "    df[\"neighborhood\"] = df[\"place_with_parent_names\"].str.split(\"|\", expand=True)[3]\n",
    "    df.drop(columns=\"place_with_parent_names\", inplace=True)\n",
    "    \n",
    "    print('low = ', low, ';high = ', high)\n",
    "    print('df.shape = ', df.shape)\n",
    "    \n",
    "    return df"
   ]
  },
  {
   "cell_type": "code",
   "execution_count": null,
   "id": "15d84d69-629f-46aa-9588-14a559f8b59c",
   "metadata": {},
   "outputs": [],
   "source": []
  }
 ],
 "metadata": {
  "kernelspec": {
   "display_name": "Python 3 (ipykernel)",
   "language": "python",
   "name": "python3"
  },
  "language_info": {
   "codemirror_mode": {
    "name": "ipython",
    "version": 3
   },
   "file_extension": ".py",
   "mimetype": "text/x-python",
   "name": "python",
   "nbconvert_exporter": "python",
   "pygments_lexer": "ipython3",
   "version": "3.11.3"
  }
 },
 "nbformat": 4,
 "nbformat_minor": 5
}
